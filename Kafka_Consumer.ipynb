{
 "cells": [
  {
   "cell_type": "markdown",
   "id": "5c3db105",
   "metadata": {},
   "source": [
    "# Kafka Consumer"
   ]
  },
  {
   "cell_type": "markdown",
   "id": "f3363591",
   "metadata": {},
   "source": [
    "- An Apache Kafka® Consumer is a client application that subscribes to (reads and processes) events. This section provides an overview of the Kafka consumer and an introduction to the configuration settings for tuning. Confluent Platform includes the Java consumer that is shipped with Apache Kafka.\n",
    "\n"
   ]
  },
  {
   "cell_type": "markdown",
   "id": "cf83f2a7",
   "metadata": {},
   "source": [
    "- The Kafka consumer works by issuing “fetch” requests to the brokers leading the partitions it wants to consume. The consumer offset is specified in the log with each request. The consumer receives back a chunk of log beginning from the offset position. The consumer has significant control over this position and can rewind it to re-consume data if desired.\n",
    "\n"
   ]
  },
  {
   "cell_type": "markdown",
   "id": "c69835fe",
   "metadata": {},
   "source": [
    "### Importing required libraries and framework"
   ]
  },
  {
   "cell_type": "code",
   "execution_count": null,
   "id": "b6675043",
   "metadata": {},
   "outputs": [],
   "source": [
    "from kafka import KafkaConsumer\n",
    "from time import sleep\n",
    "from json import dumps,loads\n",
    "import json\n",
    "from s3fs import S3FileSystem"
   ]
  },
  {
   "cell_type": "markdown",
   "id": "15abd274",
   "metadata": {},
   "source": [
    "### Making kafka consumer connection to the AWS EC2 Instance to get JSON values"
   ]
  },
  {
   "cell_type": "code",
   "execution_count": null,
   "id": "9eeff3ef",
   "metadata": {},
   "outputs": [],
   "source": [
    " #before 9092 put public ip of AWS EC2 instance to connect\n",
    "consumer = KafkaConsumer(\n",
    "    'demo_test',\n",
    "     bootstrap_servers=['#put_EC2_public_ip#:9092'], \n",
    "    value_deserializer=lambda x: loads(x.decode('utf-8')))"
   ]
  },
  {
   "cell_type": "markdown",
   "id": "2f3bf360",
   "metadata": {},
   "source": [
    "### Making object of AWS S3 file system"
   ]
  },
  {
   "cell_type": "markdown",
   "id": "1997ef4e",
   "metadata": {},
   "source": [
    "#### What is AWS S3?\n",
    "- Amazon Simple Storage Service (Amazon S3) is an object storage service offering industry-leading scalability, data availability, security, and performance. Customers of all sizes and industries can store and protect any amount of data for virtually any use case, such as data lakes, cloud-native applications, and mobile apps. With cost-effective storage classes and easy-to-use management features, you can optimize costs, organize data, and configure fine-tuned access controls to meet specific business, organizational, and compliance requirements."
   ]
  },
  {
   "cell_type": "code",
   "execution_count": null,
   "id": "8d60dc6c",
   "metadata": {},
   "outputs": [],
   "source": [
    "s3 = S3FileSystem()"
   ]
  },
  {
   "cell_type": "markdown",
   "id": "0d85c6a8",
   "metadata": {},
   "source": [
    "#### Using the above AWS S3 object to put JSON data into S3 bucket"
   ]
  },
  {
   "cell_type": "code",
   "execution_count": null,
   "id": "0f135e81",
   "metadata": {},
   "outputs": [],
   "source": [
    "# provide AWS S3 bucket name to put data in it \n",
    "for count, i in enumerate(consumer):\n",
    "    with s3.open(\"s3:// AWS S3 bucket name\".format(count), 'w') as file:\n",
    "        json.dump(i.value, file)    "
   ]
  },
  {
   "cell_type": "code",
   "execution_count": null,
   "id": "7b811cb6",
   "metadata": {},
   "outputs": [],
   "source": []
  }
 ],
 "metadata": {
  "kernelspec": {
   "display_name": "Python 3 (ipykernel)",
   "language": "python",
   "name": "python3"
  },
  "language_info": {
   "codemirror_mode": {
    "name": "ipython",
    "version": 3
   },
   "file_extension": ".py",
   "mimetype": "text/x-python",
   "name": "python",
   "nbconvert_exporter": "python",
   "pygments_lexer": "ipython3",
   "version": "3.8.8"
  }
 },
 "nbformat": 4,
 "nbformat_minor": 5
}
