{
 "cells": [
  {
   "cell_type": "markdown",
   "id": "c14a687e",
   "metadata": {},
   "source": [
    "# This is kafka producer"
   ]
  },
  {
   "cell_type": "markdown",
   "id": "15a3e977",
   "metadata": {},
   "source": [
    "- An Apache Kafka® Producer is a client application that publishes (writes) events to a Kafka cluster. This section gives an overview of the Kafka producer and an introduction to the configuration settings for tuning.\n",
    "- The Kafka producer is conceptually much simpler than the consumer since it has no need for group coordination. A producer partitioner maps each message to a topic partition, and the producer sends a produce request to the leader of that partition. The partitioners shipped with Kafka guarantee that all messages with the same non-empty key will be sent to the same partition."
   ]
  },
  {
   "cell_type": "markdown",
   "id": "1cb7bb65",
   "metadata": {},
   "source": [
    "### Installing python requirements for kafka"
   ]
  },
  {
   "cell_type": "code",
   "execution_count": 2,
   "id": "e2d3f594",
   "metadata": {},
   "outputs": [
    {
     "name": "stdout",
     "output_type": "stream",
     "text": [
      "Collecting kafka-python\n",
      "  Downloading kafka_python-2.0.2-py2.py3-none-any.whl (246 kB)\n",
      "\u001b[2K     \u001b[90m━━━━━━━━━━━━━━━━━━━━━━━━━━━━━━━━━━━━━━━\u001b[0m \u001b[32m246.5/246.5 kB\u001b[0m \u001b[31m6.7 MB/s\u001b[0m eta \u001b[36m0:00:00\u001b[0m\n",
      "\u001b[?25hInstalling collected packages: kafka-python\n",
      "Successfully installed kafka-python-2.0.2\n"
     ]
    }
   ],
   "source": [
    "!pip install kafka-python"
   ]
  },
  {
   "cell_type": "markdown",
   "id": "b19a170f",
   "metadata": {},
   "source": [
    "### Importing important libaries and framework for the project"
   ]
  },
  {
   "cell_type": "code",
   "execution_count": 3,
   "id": "f19405f0",
   "metadata": {},
   "outputs": [],
   "source": [
    "import pandas as pd\n",
    "from kafka import KafkaProducer\n",
    "from time import sleep\n",
    "from json import dumps\n",
    "import json"
   ]
  },
  {
   "cell_type": "markdown",
   "id": "72f16648",
   "metadata": {},
   "source": [
    "#### Connecting local machine to AWS EC2 Instance kafka "
   ]
  },
  {
   "cell_type": "code",
   "execution_count": null,
   "id": "b483a0e4",
   "metadata": {},
   "outputs": [],
   "source": [
    "producer = KafkaProducer(bootstrap_servers=['#put_EC2_public_ip#:9092'], #before 9092 put public ip of aws EC2 instance to connect\n",
    "                         value_serializer=lambda x: \n",
    "                         dumps(x).encode('utf-8'))"
   ]
  },
  {
   "cell_type": "markdown",
   "id": "c0e843b0",
   "metadata": {},
   "source": [
    "## Now once connection to AWS is established read the data from csv file and send the data as JSON format"
   ]
  },
  {
   "cell_type": "code",
   "execution_count": null,
   "id": "cc8d45aa",
   "metadata": {},
   "outputs": [],
   "source": [
    "# reading the data from the csv file and sending to kafka cluster\n",
    "df = pd.read_csv(\"indexProcessed.csv\") "
   ]
  },
  {
   "cell_type": "code",
   "execution_count": null,
   "id": "4c7ec0be",
   "metadata": {},
   "outputs": [],
   "source": [
    "#this is just a example of how can we send realtime data into kafka\n",
    "# instead of sending data from csv we can send real-time data using API. \n",
    "while True:\n",
    "    dict_stock = df.sample(1).to_dict(orient=\"records\")[0] #making data format JSON\n",
    "    producer.send('demo_test', value=dict_stock)\n",
    "    sleep(1) # pausing for 1 sec just to se change in data AWS Athena"
   ]
  },
  {
   "cell_type": "code",
   "execution_count": null,
   "id": "ed71c0e4",
   "metadata": {},
   "outputs": [],
   "source": [
    "producer.flush() #clear data from kafka server"
   ]
  },
  {
   "cell_type": "code",
   "execution_count": null,
   "id": "5991d10f",
   "metadata": {},
   "outputs": [],
   "source": []
  },
  {
   "cell_type": "code",
   "execution_count": null,
   "id": "3632d61d",
   "metadata": {},
   "outputs": [],
   "source": []
  }
 ],
 "metadata": {
  "kernelspec": {
   "display_name": "Python 3 (ipykernel)",
   "language": "python",
   "name": "python3"
  },
  "language_info": {
   "codemirror_mode": {
    "name": "ipython",
    "version": 3
   },
   "file_extension": ".py",
   "mimetype": "text/x-python",
   "name": "python",
   "nbconvert_exporter": "python",
   "pygments_lexer": "ipython3",
   "version": "3.8.8"
  }
 },
 "nbformat": 4,
 "nbformat_minor": 5
}
